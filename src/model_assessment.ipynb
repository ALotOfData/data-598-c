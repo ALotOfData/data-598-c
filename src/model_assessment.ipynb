{
 "cells": [
  {
   "cell_type": "markdown",
   "metadata": {},
   "source": [
    "# Model assessment\n",
    "\n",
    "## Import data"
   ]
  },
  {
   "cell_type": "code",
   "execution_count": 1,
   "metadata": {},
   "outputs": [
    {
     "data": {
      "text/html": [
       "<div>\n",
       "<style scoped>\n",
       "    .dataframe tbody tr th:only-of-type {\n",
       "        vertical-align: middle;\n",
       "    }\n",
       "\n",
       "    .dataframe tbody tr th {\n",
       "        vertical-align: top;\n",
       "    }\n",
       "\n",
       "    .dataframe thead th {\n",
       "        text-align: right;\n",
       "    }\n",
       "</style>\n",
       "<table border=\"1\" class=\"dataframe\">\n",
       "  <thead>\n",
       "    <tr style=\"text-align: right;\">\n",
       "      <th></th>\n",
       "      <th>Stars</th>\n",
       "      <th>Bar</th>\n",
       "      <th>Bowl</th>\n",
       "      <th>Box</th>\n",
       "      <th>Can</th>\n",
       "      <th>Cup</th>\n",
       "      <th>Pack</th>\n",
       "      <th>Tray</th>\n",
       "      <th>2014</th>\n",
       "      <th>2015</th>\n",
       "      <th>2016</th>\n",
       "      <th>2017</th>\n",
       "      <th>2018</th>\n",
       "      <th>Five Year Consumption Increase</th>\n",
       "      <th>Spicy</th>\n",
       "      <th>Variety Length</th>\n",
       "    </tr>\n",
       "  </thead>\n",
       "  <tbody>\n",
       "    <tr>\n",
       "      <th>0</th>\n",
       "      <td>3.75</td>\n",
       "      <td>0</td>\n",
       "      <td>0</td>\n",
       "      <td>0</td>\n",
       "      <td>0</td>\n",
       "      <td>1</td>\n",
       "      <td>0</td>\n",
       "      <td>0</td>\n",
       "      <td>0.123677</td>\n",
       "      <td>0.136813</td>\n",
       "      <td>0.146715</td>\n",
       "      <td>0.145021</td>\n",
       "      <td>0.143390</td>\n",
       "      <td>1</td>\n",
       "      <td>0</td>\n",
       "      <td>0.236559</td>\n",
       "    </tr>\n",
       "    <tr>\n",
       "      <th>1</th>\n",
       "      <td>1</td>\n",
       "      <td>0</td>\n",
       "      <td>0</td>\n",
       "      <td>0</td>\n",
       "      <td>0</td>\n",
       "      <td>0</td>\n",
       "      <td>1</td>\n",
       "      <td>0</td>\n",
       "      <td>0.015769</td>\n",
       "      <td>0.016576</td>\n",
       "      <td>0.019735</td>\n",
       "      <td>0.020791</td>\n",
       "      <td>0.020378</td>\n",
       "      <td>1</td>\n",
       "      <td>1</td>\n",
       "      <td>0.602151</td>\n",
       "    </tr>\n",
       "    <tr>\n",
       "      <th>2</th>\n",
       "      <td>2.25</td>\n",
       "      <td>0</td>\n",
       "      <td>0</td>\n",
       "      <td>0</td>\n",
       "      <td>0</td>\n",
       "      <td>1</td>\n",
       "      <td>0</td>\n",
       "      <td>0</td>\n",
       "      <td>0.096193</td>\n",
       "      <td>0.100693</td>\n",
       "      <td>0.106206</td>\n",
       "      <td>0.105749</td>\n",
       "      <td>0.109095</td>\n",
       "      <td>1</td>\n",
       "      <td>0</td>\n",
       "      <td>0.279570</td>\n",
       "    </tr>\n",
       "    <tr>\n",
       "      <th>3</th>\n",
       "      <td>2.75</td>\n",
       "      <td>0</td>\n",
       "      <td>0</td>\n",
       "      <td>0</td>\n",
       "      <td>0</td>\n",
       "      <td>0</td>\n",
       "      <td>1</td>\n",
       "      <td>0</td>\n",
       "      <td>0.015769</td>\n",
       "      <td>0.016576</td>\n",
       "      <td>0.019735</td>\n",
       "      <td>0.020791</td>\n",
       "      <td>0.020378</td>\n",
       "      <td>1</td>\n",
       "      <td>1</td>\n",
       "      <td>0.279570</td>\n",
       "    </tr>\n",
       "    <tr>\n",
       "      <th>4</th>\n",
       "      <td>3.75</td>\n",
       "      <td>0</td>\n",
       "      <td>0</td>\n",
       "      <td>0</td>\n",
       "      <td>0</td>\n",
       "      <td>0</td>\n",
       "      <td>1</td>\n",
       "      <td>0</td>\n",
       "      <td>0.120072</td>\n",
       "      <td>0.080406</td>\n",
       "      <td>0.110621</td>\n",
       "      <td>0.138860</td>\n",
       "      <td>0.150348</td>\n",
       "      <td>1</td>\n",
       "      <td>0</td>\n",
       "      <td>0.129032</td>\n",
       "    </tr>\n",
       "  </tbody>\n",
       "</table>\n",
       "</div>"
      ],
      "text/plain": [
       "  Stars  Bar  Bowl  Box  Can  Cup  Pack  Tray      2014      2015      2016  \\\n",
       "0  3.75    0     0    0    0    1     0     0  0.123677  0.136813  0.146715   \n",
       "1     1    0     0    0    0    0     1     0  0.015769  0.016576  0.019735   \n",
       "2  2.25    0     0    0    0    1     0     0  0.096193  0.100693  0.106206   \n",
       "3  2.75    0     0    0    0    0     1     0  0.015769  0.016576  0.019735   \n",
       "4  3.75    0     0    0    0    0     1     0  0.120072  0.080406  0.110621   \n",
       "\n",
       "       2017      2018  Five Year Consumption Increase  Spicy  Variety Length  \n",
       "0  0.145021  0.143390                               1      0        0.236559  \n",
       "1  0.020791  0.020378                               1      1        0.602151  \n",
       "2  0.105749  0.109095                               1      0        0.279570  \n",
       "3  0.020791  0.020378                               1      1        0.279570  \n",
       "4  0.138860  0.150348                               1      0        0.129032  "
      ]
     },
     "execution_count": 1,
     "metadata": {},
     "output_type": "execute_result"
    }
   ],
   "source": [
    "import pandas as pd\n",
    "import numpy as np\n",
    "\n",
    "rr_df = pd.read_csv('../clean_data/ramen_features.csv')\n",
    "rr_df.head()"
   ]
  },
  {
   "cell_type": "markdown",
   "metadata": {},
   "source": [
    "## Imputation of unrated values\n",
    "\n",
    "Our first attept will be to drop unrated values.  \n",
    "Depending on our model evaluations we may revisit this step.  \n",
    "(Note there is a total of 3 \"Unrated\" values in the dataset.  "
   ]
  },
  {
   "cell_type": "code",
   "execution_count": 2,
   "metadata": {},
   "outputs": [],
   "source": [
    "rated_df = rr_df[~(rr_df.Stars == \"Unrated\")]"
   ]
  },
  {
   "cell_type": "code",
   "execution_count": 3,
   "metadata": {},
   "outputs": [],
   "source": [
    "# Change column type to float\n",
    "rated_df_with_types = rated_df.copy()\n",
    "rated_df_with_types.Stars = rated_df_with_types.Stars.astype('float')"
   ]
  },
  {
   "cell_type": "markdown",
   "metadata": {},
   "source": [
    "## Train, test and validation split"
   ]
  },
  {
   "cell_type": "code",
   "execution_count": 4,
   "metadata": {},
   "outputs": [],
   "source": [
    "# Independant variables\n",
    "X = rated_df_with_types.drop('Stars', axis=1)\n",
    "\n",
    "# Dependant variable\n",
    "y = rated_df_with_types.Stars"
   ]
  },
  {
   "cell_type": "code",
   "execution_count": 5,
   "metadata": {},
   "outputs": [],
   "source": [
    "from sklearn.model_selection import train_test_split\n",
    "\n",
    "# Split in train, test and validation (80%, 10%, 10%)\n",
    "X_train, X_test, y_train, y_test = train_test_split(X, y, test_size=0.2, random_state=1)\n",
    "X_test, X_val, y_test, y_val = train_test_split(X_test, y_test, test_size=0.5, random_state=1)"
   ]
  },
  {
   "cell_type": "markdown",
   "metadata": {},
   "source": [
    "## Setting a random seed"
   ]
  },
  {
   "cell_type": "code",
   "execution_count": 6,
   "metadata": {},
   "outputs": [],
   "source": [
    "random_seed = 42"
   ]
  },
  {
   "cell_type": "markdown",
   "metadata": {},
   "source": [
    "## Model evaluation utilities"
   ]
  },
  {
   "cell_type": "code",
   "execution_count": 7,
   "metadata": {},
   "outputs": [],
   "source": [
    "import matplotlib.pyplot as plt\n",
    "\n",
    "def plot_residuals(y, y_hat):\n",
    "    residuals = (y-y_hat)\n",
    "    plt.title(\"Predicted vs Residuals\")\n",
    "    plt.scatter(x=y_hat, y=residuals)\n",
    "    plt.xlabel(\"Predicted\")\n",
    "    plt.ylabel(\"Residuals\")\n",
    "    plt.show()"
   ]
  },
  {
   "cell_type": "code",
   "execution_count": 8,
   "metadata": {},
   "outputs": [],
   "source": [
    "from sklearn.metrics import mean_squared_error, mean_absolute_error, r2_score"
   ]
  },
  {
   "cell_type": "code",
   "execution_count": 21,
   "metadata": {},
   "outputs": [],
   "source": [
    "import statsmodels.api as sm\n",
    "import pylab as py\n",
    "\n",
    "def plot_qq(y, y_hat):\n",
    "    sm.qqplot((y-y_hat), line ='45') \n",
    "    py.show()"
   ]
  },
  {
   "cell_type": "code",
   "execution_count": 10,
   "metadata": {},
   "outputs": [],
   "source": [
    "def eval(y, y_hat):\n",
    "    mae = mean_absolute_error(y, y_hat)\n",
    "    rmse = mean_squared_error(y, y_hat)**(1/2)\n",
    "    r2 = r2_score(y, y_hat)\n",
    "    return (mae, rmse, r2)"
   ]
  },
  {
   "cell_type": "markdown",
   "metadata": {},
   "source": [
    "## Running models\n",
    "\n",
    "As both of the models I've decided to use have no hyperparameter I will focus on calculating and comparing signals I obtain from the evaluation utilities.\n",
    "\n",
    "### First model : EBM (Explainable boosting machines)"
   ]
  },
  {
   "cell_type": "code",
   "execution_count": 11,
   "metadata": {},
   "outputs": [
    {
     "data": {
      "text/plain": [
       "ExplainableBoostingRegressor(binning_strategy='uniform', data_n_episodes=2000,\n",
       "                             early_stopping_run_length=50,\n",
       "                             early_stopping_tolerance=1e-05,\n",
       "                             feature_names=['Bar', 'Bowl', 'Box', 'Can', 'Cup',\n",
       "                                            'Pack', 'Tray', '2014', '2015',\n",
       "                                            '2016', '2017', '2018',\n",
       "                                            'Five Year Consumption Increase',\n",
       "                                            'Spicy', 'Variety Length'],\n",
       "                             feature_step_n_inner_bags=0,\n",
       "                             feature_types=['categorical', 'categ...\n",
       "                                            'categorical', 'categorical',\n",
       "                                            'categorical', 'continuous',\n",
       "                                            'continuous', 'continuous',\n",
       "                                            'continuous', 'continuous',\n",
       "                                            'categorical', 'categorical',\n",
       "                                            'continuous'],\n",
       "                             holdout_size=0.15, holdout_split=0.15,\n",
       "                             interactions=0, learning_rate=0.01,\n",
       "                             main_attr='all', max_tree_splits=2,\n",
       "                             min_cases_for_splits=2, n_estimators=16, n_jobs=-2,\n",
       "                             random_state=42, schema=None, scoring=None,\n",
       "                             training_step_episodes=1)"
      ]
     },
     "execution_count": 11,
     "metadata": {},
     "output_type": "execute_result"
    }
   ],
   "source": [
    "from interpret.glassbox import ExplainableBoostingRegressor\n",
    "\n",
    "ebm = ExplainableBoostingRegressor(random_state=random_seed)\n",
    "ebm.fit(X_train, y_train)"
   ]
  },
  {
   "cell_type": "code",
   "execution_count": 12,
   "metadata": {},
   "outputs": [],
   "source": [
    "y_test_ebm_pred = ebm.predict(X_test)\n",
    "y_val_ebm_pred = ebm.predict(X_val)"
   ]
  },
  {
   "cell_type": "markdown",
   "metadata": {},
   "source": [
    "## Linear regression from scikit-learn"
   ]
  },
  {
   "cell_type": "code",
   "execution_count": 13,
   "metadata": {},
   "outputs": [],
   "source": [
    "# Removing highly correlated variables (Let's only keep 2018)\n",
    "col_subset = ['Bar', 'Bowl', 'Box', 'Can', 'Cup','Pack', 'Tray','Spicy', 'Variety Length', '2018']\n",
    "\n",
    "X_train_linear = X_train[col_subset]\n",
    "X_test_linear = X_test[col_subset]\n",
    "X_val_linear = X_val[col_subset]"
   ]
  },
  {
   "cell_type": "code",
   "execution_count": 14,
   "metadata": {},
   "outputs": [],
   "source": [
    "from sklearn import linear_model\n",
    "\n",
    "lm = linear_model.LinearRegression()\n",
    "lm.fit(X_train_linear, y_train)\n",
    "\n",
    "y_test_linear_pred = lm.predict(X_test_linear)\n",
    "y_val_linear_pred = lm.predict(X_val_linear)"
   ]
  },
  {
   "cell_type": "markdown",
   "metadata": {},
   "source": [
    "## Save models and datasets"
   ]
  },
  {
   "cell_type": "code",
   "execution_count": 103,
   "metadata": {},
   "outputs": [],
   "source": [
    "from joblib import dump, load\n",
    "\n",
    "dump(lm, '../models/linear.joblib')\n",
    "dump(ebm,'../models/ebm.joblib')\n",
    "\n",
    "linear_val_data = X_val_linear.copy()\n",
    "ebm_val_data = X_val.copy()\n",
    "\n",
    "linear_val_data['Stars'] = y_val\n",
    "ebm_val_data['Stars'] = y_val\n",
    "\n",
    "linear_val_data.to_csv('../clean_data/linear_val_data.csv', index=False)\n",
    "ebm_val_data.to_csv('../clean_data/ebm_val_data.csv', index=False)"
   ]
  },
  {
   "cell_type": "markdown",
   "metadata": {},
   "source": [
    "## Model evaluation and discussion"
   ]
  },
  {
   "cell_type": "code",
   "execution_count": 15,
   "metadata": {},
   "outputs": [
    {
     "data": {
      "text/html": [
       "<div>\n",
       "<style scoped>\n",
       "    .dataframe tbody tr th:only-of-type {\n",
       "        vertical-align: middle;\n",
       "    }\n",
       "\n",
       "    .dataframe tbody tr th {\n",
       "        vertical-align: top;\n",
       "    }\n",
       "\n",
       "    .dataframe thead th {\n",
       "        text-align: right;\n",
       "    }\n",
       "</style>\n",
       "<table border=\"1\" class=\"dataframe\">\n",
       "  <thead>\n",
       "    <tr style=\"text-align: right;\">\n",
       "      <th></th>\n",
       "      <th>mae</th>\n",
       "      <th>rmse</th>\n",
       "      <th>r2</th>\n",
       "    </tr>\n",
       "  </thead>\n",
       "  <tbody>\n",
       "    <tr>\n",
       "      <th>Test linear</th>\n",
       "      <td>0.768447</td>\n",
       "      <td>1.055846</td>\n",
       "      <td>-0.014522</td>\n",
       "    </tr>\n",
       "    <tr>\n",
       "      <th>Val linear</th>\n",
       "      <td>0.693633</td>\n",
       "      <td>0.997686</td>\n",
       "      <td>0.003975</td>\n",
       "    </tr>\n",
       "    <tr>\n",
       "      <th>Test ebm</th>\n",
       "      <td>0.734396</td>\n",
       "      <td>1.004691</td>\n",
       "      <td>0.081402</td>\n",
       "    </tr>\n",
       "    <tr>\n",
       "      <th>Val ebm</th>\n",
       "      <td>0.668379</td>\n",
       "      <td>0.966107</td>\n",
       "      <td>0.066030</td>\n",
       "    </tr>\n",
       "  </tbody>\n",
       "</table>\n",
       "</div>"
      ],
      "text/plain": [
       "                  mae      rmse        r2\n",
       "Test linear  0.768447  1.055846 -0.014522\n",
       "Val linear   0.693633  0.997686  0.003975\n",
       "Test ebm     0.734396  1.004691  0.081402\n",
       "Val ebm      0.668379  0.966107  0.066030"
      ]
     },
     "execution_count": 15,
     "metadata": {},
     "output_type": "execute_result"
    }
   ],
   "source": [
    "evals = []\n",
    "\n",
    "# Append evaluation metrics per test/val sets and ebm/linear models\n",
    "evals.append(eval(y_test, y_test_linear_pred))\n",
    "evals.append(eval(y_val, y_val_linear_pred))\n",
    "evals.append(eval(y_test, y_test_ebm_pred))\n",
    "evals.append(eval(y_val, y_val_ebm_pred))\n",
    "\n",
    "# Create and output dataframe\n",
    "columns = [\"mae\", \"rmse\", \"r2\"]\n",
    "evals_df = pd.DataFrame(evals, columns=columns)\n",
    "evals_df.index = [\"Test linear\", \"Val linear\", \"Test ebm\", \"Val ebm\"]\n",
    "evals_df"
   ]
  },
  {
   "cell_type": "markdown",
   "metadata": {},
   "source": [
    "From this table we see that both models explain very little variance. In fact, the linear model does worse on the test set than predicting the average... In comparison the ebm's do a little better although a model explaining 8% of the variance isn't great for our use case. \n",
    "\n",
    "The mean absolute error is smaller than the root mean squared error, which indicates that there might large residuals caused by our predictions. \n",
    "\n",
    "Let's now take a look at the residuals.\n",
    "\n",
    "### Residuals\n",
    "\n",
    "#### Linear - test"
   ]
  },
  {
   "cell_type": "code",
   "execution_count": 16,
   "metadata": {},
   "outputs": [
    {
     "data": {
      "image/png": "[encoded data removed]",
      "text/plain": [
       "<Figure size 432x288 with 1 Axes>"
      ]
     },
     "metadata": {
      "needs_background": "light"
     },
     "output_type": "display_data"
    }
   ],
   "source": [
    "plot_residuals(y_test, y_test_linear_pred)"
   ]
  },
  {
   "cell_type": "markdown",
   "metadata": {},
   "source": [
    "#### Linear - val"
   ]
  },
  {
   "cell_type": "code",
   "execution_count": 17,
   "metadata": {},
   "outputs": [
    {
     "data": {
      "image/png": "[encoded data removed]",
      "text/plain": [
       "<Figure size 432x288 with 1 Axes>"
      ]
     },
     "metadata": {
      "needs_background": "light"
     },
     "output_type": "display_data"
    }
   ],
   "source": [
    "plot_residuals(y_val, y_val_linear_pred)"
   ]
  },
  {
   "cell_type": "markdown",
   "metadata": {},
   "source": [
    "#### EBM - test"
   ]
  },
  {
   "cell_type": "code",
   "execution_count": 18,
   "metadata": {},
   "outputs": [
    {
     "data": {
      "image/png": "[encoded data removed]",
      "text/plain": [
       "<Figure size 432x288 with 1 Axes>"
      ]
     },
     "metadata": {
      "needs_background": "light"
     },
     "output_type": "display_data"
    }
   ],
   "source": [
    "plot_residuals(y_test, y_test_ebm_pred)"
   ]
  },
  {
   "cell_type": "markdown",
   "metadata": {},
   "source": [
    "#### EBM - val"
   ]
  },
  {
   "cell_type": "code",
   "execution_count": 19,
   "metadata": {},
   "outputs": [
    {
     "data": {
      "image/png": "[encoded data removed]",
      "text/plain": [
       "<Figure size 432x288 with 1 Axes>"
      ]
     },
     "metadata": {
      "needs_background": "light"
     },
     "output_type": "display_data"
    }
   ],
   "source": [
    "plot_residuals(y_val, y_val_ebm_pred)"
   ]
  },
  {
   "cell_type": "markdown",
   "metadata": {},
   "source": [
    "From these we see that errors don't seem to be systematic in any way that could easily be fixed.\n",
    "We should either test with other models or try to gather more / other features which could have a stronger relation to our target variable...\n",
    "\n",
    "\n",
    "Let's now look at particularities of our models...\n",
    "\n",
    "### Linear viable?\n",
    "\n",
    "#### Assumption of independence\n",
    "\n",
    "Altough ramen reviews were done by the same reviewer, we really have no way to garantee independence. Judging of the quality of ramen is very subjective. We can start with the assumptions that the ratings are independent.\n",
    "\n",
    "#### Assumption of normality of residuals\n",
    "\n",
    "Let's validate by looking at a q-q plot of the residuals."
   ]
  },
  {
   "cell_type": "code",
   "execution_count": 22,
   "metadata": {},
   "outputs": [
    {
     "data": {
      "image/png": "[encoded data removed]",
      "text/plain": [
       "<Figure size 432x288 with 1 Axes>"
      ]
     },
     "metadata": {
      "needs_background": "light"
     },
     "output_type": "display_data"
    }
   ],
   "source": [
    "plot_qq(y_test, y_test_linear_pred)"
   ]
  },
  {
   "cell_type": "markdown",
   "metadata": {},
   "source": [
    "This plot indicates that our residuals do not appear o follow a normal distribution. We should not trust the results of our model."
   ]
  },
  {
   "cell_type": "markdown",
   "metadata": {},
   "source": [
    "### EBMs\n",
    "\n",
    "Let's take a look at EBM's built in explanation of its results."
   ]
  },
  {
   "cell_type": "code",
   "execution_count": 23,
   "metadata": {},
   "outputs": [
    {
     "data": {
      "text/html": [
       "<!-- http://127.0.0.1:7096/120741405520/ -->\n",
       "<iframe src=\"http://127.0.0.1:7096/120741405520/\" width=100% height=800 frameBorder=\"0\"></iframe>"
      ]
     },
     "metadata": {},
     "output_type": "display_data"
    }
   ],
   "source": [
    "from interpret import show\n",
    "\n",
    "ebm_global = ebm.explain_global(name='EBM')\n",
    "show(ebm_global)"
   ]
  },
  {
   "cell_type": "code",
   "execution_count": 24,
   "metadata": {},
   "outputs": [
    {
     "data": {
      "text/html": [
       "<!-- http://127.0.0.1:7096/120803254224/ -->\n",
       "<iframe src=\"http://127.0.0.1:7096/120803254224/\" width=100% height=800 frameBorder=\"0\"></iframe>"
      ]
     },
     "metadata": {},
     "output_type": "display_data"
    }
   ],
   "source": [
    "from interpret.perf import RegressionPerf\n",
    "\n",
    "ebm_perf = RegressionPerf(ebm.predict).explain_perf(X_test, y_test, name='EBM')\n",
    "show(ebm_perf)"
   ]
  },
  {
   "cell_type": "markdown",
   "metadata": {},
   "source": [
    "From those we see that the different feature variables explained very little of the variance of our dataset. Given this, it is not surprising to see that the predictions were so poor.\n",
    "\n",
    "EBM can fit complex boundaries and were only able to obtain an $R^2$ of 8% of the variance. This is marginaly better than guessing in the context of our ramen ratings. Ideally we would have wanted a model which expressed results with a margin significant enough to simplify comparison of ramen products.\n",
    "\n",
    "## Conclusion\n",
    "\n",
    "Overall, I feel the EBMs did a better job at explaining the poor relationship between the result of their predictions and the target and feature variables. Looking at the linear coefficients was not particularly useful and the model ended up not satisfying the necessary assumptions.\n",
    "\n",
    "\n",
    "I do not recommend using either of these models to guide the choice of a ramen product. Insead I would probably average the star rating by brand and use that as a proxy to make a decision next time you are in the grocery store.\n",
    "\n",
    "Having had a bit more time I would have compared this later approach to the model's ranking."
   ]
  }
 ],
 "metadata": {
  "kernelspec": {
   "display_name": "Python 3",
   "language": "python",
   "name": "python3"
  },
  "language_info": {
   "codemirror_mode": {
    "name": "ipython",
    "version": 3
   },
   "file_extension": ".py",
   "mimetype": "text/x-python",
   "name": "python",
   "nbconvert_exporter": "python",
   "pygments_lexer": "ipython3",
   "version": "3.7.6"
  }
 },
 "nbformat": 4,
 "nbformat_minor": 4
}
