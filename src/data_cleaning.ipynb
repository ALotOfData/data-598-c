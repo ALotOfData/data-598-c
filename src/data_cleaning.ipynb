{
 "cells": [
  {
   "cell_type": "markdown",
   "metadata": {},
   "source": [
    "# Data cleaning\n",
    "\n",
    "Our first step will be to clean the data obtained from the [ramens rating kaggle entry](https://www.kaggle.com/residentmario/ramen-ratings) found in the `./raw_data/ramen_ratings.csv` and integrate the the data from the [World Instant Noodle Association](https://instantnoodles.org/en/noodles/market.html) in one dataset.\n",
    "\n",
    "## Covered in this notebook\n",
    "\n",
    "1. Exploration of column content.\n",
    "2. Validating the quality of the data:\n",
    " * Weird values\n",
    " * Badly formatted data\n",
    " * Missing data\n",
    "3. Outputting subset csv file.\n",
    " \n",
    "## Exploring column content\n",
    " \n",
    "We start by importing pandas which we will use to read the orignal csv and select a few columns."
   ]
  },
  {
   "cell_type": "code",
   "execution_count": 191,
   "metadata": {},
   "outputs": [],
   "source": [
    "import pandas as pd\n",
    "rr_df = pd.read_csv('../raw_data/ramen_ratings.csv');"
   ]
  },
  {
   "cell_type": "markdown",
   "metadata": {},
   "source": [
    "We verify that the data was loaded properly by outputting a couple of rows and the dimensions of the dataframe."
   ]
  },
  {
   "cell_type": "code",
   "execution_count": 192,
   "metadata": {},
   "outputs": [
    {
     "data": {
      "text/html": [
       "<div>\n",
       "<style scoped>\n",
       "    .dataframe tbody tr th:only-of-type {\n",
       "        vertical-align: middle;\n",
       "    }\n",
       "\n",
       "    .dataframe tbody tr th {\n",
       "        vertical-align: top;\n",
       "    }\n",
       "\n",
       "    .dataframe thead th {\n",
       "        text-align: right;\n",
       "    }\n",
       "</style>\n",
       "<table border=\"1\" class=\"dataframe\">\n",
       "  <thead>\n",
       "    <tr style=\"text-align: right;\">\n",
       "      <th></th>\n",
       "      <th>Review #</th>\n",
       "      <th>Brand</th>\n",
       "      <th>Variety</th>\n",
       "      <th>Style</th>\n",
       "      <th>Country</th>\n",
       "      <th>Stars</th>\n",
       "      <th>Top Ten</th>\n",
       "    </tr>\n",
       "  </thead>\n",
       "  <tbody>\n",
       "    <tr>\n",
       "      <th>0</th>\n",
       "      <td>2580</td>\n",
       "      <td>New Touch</td>\n",
       "      <td>T's Restaurant Tantanmen</td>\n",
       "      <td>Cup</td>\n",
       "      <td>Japan</td>\n",
       "      <td>3.75</td>\n",
       "      <td>NaN</td>\n",
       "    </tr>\n",
       "    <tr>\n",
       "      <th>1</th>\n",
       "      <td>2579</td>\n",
       "      <td>Just Way</td>\n",
       "      <td>Noodles Spicy Hot Sesame Spicy Hot Sesame Guan...</td>\n",
       "      <td>Pack</td>\n",
       "      <td>Taiwan</td>\n",
       "      <td>1</td>\n",
       "      <td>NaN</td>\n",
       "    </tr>\n",
       "    <tr>\n",
       "      <th>2</th>\n",
       "      <td>2578</td>\n",
       "      <td>Nissin</td>\n",
       "      <td>Cup Noodles Chicken Vegetable</td>\n",
       "      <td>Cup</td>\n",
       "      <td>USA</td>\n",
       "      <td>2.25</td>\n",
       "      <td>NaN</td>\n",
       "    </tr>\n",
       "    <tr>\n",
       "      <th>3</th>\n",
       "      <td>2577</td>\n",
       "      <td>Wei Lih</td>\n",
       "      <td>GGE Ramen Snack Tomato Flavor</td>\n",
       "      <td>Pack</td>\n",
       "      <td>Taiwan</td>\n",
       "      <td>2.75</td>\n",
       "      <td>NaN</td>\n",
       "    </tr>\n",
       "    <tr>\n",
       "      <th>4</th>\n",
       "      <td>2576</td>\n",
       "      <td>Ching's Secret</td>\n",
       "      <td>Singapore Curry</td>\n",
       "      <td>Pack</td>\n",
       "      <td>India</td>\n",
       "      <td>3.75</td>\n",
       "      <td>NaN</td>\n",
       "    </tr>\n",
       "  </tbody>\n",
       "</table>\n",
       "</div>"
      ],
      "text/plain": [
       "   Review #           Brand  \\\n",
       "0      2580       New Touch   \n",
       "1      2579        Just Way   \n",
       "2      2578          Nissin   \n",
       "3      2577         Wei Lih   \n",
       "4      2576  Ching's Secret   \n",
       "\n",
       "                                             Variety Style Country Stars  \\\n",
       "0                          T's Restaurant Tantanmen    Cup   Japan  3.75   \n",
       "1  Noodles Spicy Hot Sesame Spicy Hot Sesame Guan...  Pack  Taiwan     1   \n",
       "2                      Cup Noodles Chicken Vegetable   Cup     USA  2.25   \n",
       "3                      GGE Ramen Snack Tomato Flavor  Pack  Taiwan  2.75   \n",
       "4                                    Singapore Curry  Pack   India  3.75   \n",
       "\n",
       "  Top Ten  \n",
       "0     NaN  \n",
       "1     NaN  \n",
       "2     NaN  \n",
       "3     NaN  \n",
       "4     NaN  "
      ]
     },
     "execution_count": 192,
     "metadata": {},
     "output_type": "execute_result"
    }
   ],
   "source": [
    "rr_df.head(5)"
   ]
  },
  {
   "cell_type": "code",
   "execution_count": 193,
   "metadata": {},
   "outputs": [
    {
     "name": "stdout",
     "output_type": "stream",
     "text": [
      "The ramen ratings table has 2580 rows 7 columns\n"
     ]
    }
   ],
   "source": [
    "print('The ramen ratings table has {0} rows {1} columns'.format(*rr_df.shape))"
   ]
  },
  {
   "cell_type": "markdown",
   "metadata": {},
   "source": [
    "For this analysis we will not be using the `Review #` and although information about the `Top Ten` is interesting, it will not be very useful for our regression efforts. Let's start by removing these two columns."
   ]
  },
  {
   "cell_type": "code",
   "execution_count": 194,
   "metadata": {},
   "outputs": [
    {
     "data": {
      "text/html": [
       "<div>\n",
       "<style scoped>\n",
       "    .dataframe tbody tr th:only-of-type {\n",
       "        vertical-align: middle;\n",
       "    }\n",
       "\n",
       "    .dataframe tbody tr th {\n",
       "        vertical-align: top;\n",
       "    }\n",
       "\n",
       "    .dataframe thead th {\n",
       "        text-align: right;\n",
       "    }\n",
       "</style>\n",
       "<table border=\"1\" class=\"dataframe\">\n",
       "  <thead>\n",
       "    <tr style=\"text-align: right;\">\n",
       "      <th></th>\n",
       "      <th>Brand</th>\n",
       "      <th>Variety</th>\n",
       "      <th>Style</th>\n",
       "      <th>Country</th>\n",
       "      <th>Stars</th>\n",
       "    </tr>\n",
       "  </thead>\n",
       "  <tbody>\n",
       "    <tr>\n",
       "      <th>0</th>\n",
       "      <td>New Touch</td>\n",
       "      <td>T's Restaurant Tantanmen</td>\n",
       "      <td>Cup</td>\n",
       "      <td>Japan</td>\n",
       "      <td>3.75</td>\n",
       "    </tr>\n",
       "    <tr>\n",
       "      <th>1</th>\n",
       "      <td>Just Way</td>\n",
       "      <td>Noodles Spicy Hot Sesame Spicy Hot Sesame Guan...</td>\n",
       "      <td>Pack</td>\n",
       "      <td>Taiwan</td>\n",
       "      <td>1</td>\n",
       "    </tr>\n",
       "    <tr>\n",
       "      <th>2</th>\n",
       "      <td>Nissin</td>\n",
       "      <td>Cup Noodles Chicken Vegetable</td>\n",
       "      <td>Cup</td>\n",
       "      <td>USA</td>\n",
       "      <td>2.25</td>\n",
       "    </tr>\n",
       "    <tr>\n",
       "      <th>3</th>\n",
       "      <td>Wei Lih</td>\n",
       "      <td>GGE Ramen Snack Tomato Flavor</td>\n",
       "      <td>Pack</td>\n",
       "      <td>Taiwan</td>\n",
       "      <td>2.75</td>\n",
       "    </tr>\n",
       "    <tr>\n",
       "      <th>4</th>\n",
       "      <td>Ching's Secret</td>\n",
       "      <td>Singapore Curry</td>\n",
       "      <td>Pack</td>\n",
       "      <td>India</td>\n",
       "      <td>3.75</td>\n",
       "    </tr>\n",
       "  </tbody>\n",
       "</table>\n",
       "</div>"
      ],
      "text/plain": [
       "            Brand                                            Variety Style  \\\n",
       "0       New Touch                          T's Restaurant Tantanmen    Cup   \n",
       "1        Just Way  Noodles Spicy Hot Sesame Spicy Hot Sesame Guan...  Pack   \n",
       "2          Nissin                      Cup Noodles Chicken Vegetable   Cup   \n",
       "3         Wei Lih                      GGE Ramen Snack Tomato Flavor  Pack   \n",
       "4  Ching's Secret                                    Singapore Curry  Pack   \n",
       "\n",
       "  Country Stars  \n",
       "0   Japan  3.75  \n",
       "1  Taiwan     1  \n",
       "2     USA  2.25  \n",
       "3  Taiwan  2.75  \n",
       "4   India  3.75  "
      ]
     },
     "execution_count": 194,
     "metadata": {},
     "output_type": "execute_result"
    }
   ],
   "source": [
    "rr_df = rr_df.drop(columns=[\"Review #\", \"Top Ten\"])\n",
    "rr_df.head()"
   ]
  },
  {
   "cell_type": "markdown",
   "metadata": {},
   "source": [
    "## Validating data quality\n",
    "\n",
    "We will now look for null values for the different columns. We will proceed in order from left to right.\n",
    "\n",
    "* Brand & Variety are strings. We will be looking for empty / null values.\n",
    "* Style should be a categorical variable, we will be using a bar chart to look at the distribution of the different values.\n",
    "* Country is also a categorical variable, but should be a list of known value. We will be using the package `pycountry` to validate our values.\n",
    "* Stars is the variable we are trying to predict and is represented by a positive float. We will validate that all values are present and positive.\n"
   ]
  },
  {
   "cell_type": "markdown",
   "metadata": {},
   "source": [
    "### Brand & Variety"
   ]
  },
  {
   "cell_type": "code",
   "execution_count": 195,
   "metadata": {},
   "outputs": [
    {
     "name": "stdout",
     "output_type": "stream",
     "text": [
      "The number of null values for the Brand column is : 0\n",
      "The number of empty values for the Brand column is : 0\n",
      "\n",
      "The number of null values for the Variety column is : 0\n",
      "The number of empty values for the Variety column is : 0\n"
     ]
    }
   ],
   "source": [
    "def null_by_column(df, column):\n",
    "    print(\"The number of null values for the {0} column is : {1}\".format(column, pd.isnull(rr_df[column]).sum()))\n",
    "\n",
    "def empty_by_column(df, column):\n",
    "    print(\"The number of empty values for the {0} column is : {1}\".format(column, (rr_df[column] == \"\").sum()))\n",
    "    \n",
    "null_by_column(rr_df, \"Brand\")\n",
    "empty_by_column(rr_df, \"Brand\")\n",
    "print('')\n",
    "null_by_column(rr_df, \"Variety\")\n",
    "empty_by_column(rr_df, \"Variety\")"
   ]
  },
  {
   "cell_type": "markdown",
   "metadata": {},
   "source": [
    "A visual inspection of the dataset also revealed all characters in the dataset are non-unicode english characters.\n",
    "\n",
    "### Style"
   ]
  },
  {
   "cell_type": "code",
   "execution_count": 196,
   "metadata": {},
   "outputs": [
    {
     "data": {
      "text/plain": [
       "<matplotlib.axes._subplots.AxesSubplot at 0x11f4a2a50>"
      ]
     },
     "execution_count": 196,
     "metadata": {},
     "output_type": "execute_result"
    },
    {
     "data": {
      "image/png": "[encoded data removed]",
      "text/plain": [
       "<Figure size 432x288 with 1 Axes>"
      ]
     },
     "metadata": {
      "needs_background": "light"
     },
     "output_type": "display_data"
    }
   ],
   "source": [
    "rr_df['Style'].value_counts().plot.bar()"
   ]
  },
  {
   "cell_type": "markdown",
   "metadata": {},
   "source": [
    "Great! Our dataset has a limited number of options for \"Style\". We see that our distribution is skewed \"Pack\" instant noodles representing the majority of our dataset. We will have to be careful about this distribution when training our classification model.\n",
    "\n",
    "### Country\n",
    "\n",
    "1. We obtain the list of ISO format country names from the pycountry package.\n",
    "2. We validate that the country columns match with a value in pycountry.\n",
    "3. We will do a visual inspection of non-matching countries in our dataset."
   ]
  },
  {
   "cell_type": "code",
   "execution_count": 197,
   "metadata": {},
   "outputs": [
    {
     "data": {
      "text/plain": [
       "USA            323\n",
       "South Korea    309\n",
       "Taiwan         224\n",
       "Vietnam        108\n",
       "UK              69\n",
       "Holland          4\n",
       "Sarawak          3\n",
       "Dubai            3\n",
       "Name: Country, dtype: int64"
      ]
     },
     "execution_count": 197,
     "metadata": {},
     "output_type": "execute_result"
    }
   ],
   "source": [
    "import pycountry as pyc\n",
    "\n",
    "# 1. Obtain list of countries\n",
    "country_names = set([c.name for c in pyc.countries])\n",
    "\n",
    "# 2. Validate matches for country column\n",
    "rr_df_unrecognized_country = rr_df[rr_df['Country'].apply(lambda x: x not in country_names)]\n",
    "\n",
    "# 3. Visual inspection\n",
    "rr_df_unrecognized_country['Country'].value_counts()"
   ]
  },
  {
   "cell_type": "markdown",
   "metadata": {},
   "source": [
    "For convenience we will be renaming countries using the Map below to comply with the ISO code. Some countries are not recognized/part of the ISO codes, but the names used above are more intuitive, we will keep them as is."
   ]
  },
  {
   "cell_type": "code",
   "execution_count": 198,
   "metadata": {},
   "outputs": [],
   "source": [
    "country_name_map = {\n",
    "    \"USA\": \"United States\",\n",
    "    \"UK\": \"United Kingdom\",\n",
    "    \"Holland\": \"Netherlands\",\n",
    "    \"Sarawak\": \"Malaysia\",\n",
    "    \"Dubai\": \"United Arab Emirates\"\n",
    "}"
   ]
  },
  {
   "cell_type": "code",
   "execution_count": 199,
   "metadata": {},
   "outputs": [],
   "source": [
    "rr_df[\"Country\"] = rr_df[\"Country\"].apply(lambda c: c if c in country_names else (c if c not in country_name_map else country_name_map[c]))"
   ]
  },
  {
   "cell_type": "code",
   "execution_count": 200,
   "metadata": {},
   "outputs": [],
   "source": [
    "rr_df_unrecognized_country = rr_df[rr_df['Country'].apply(lambda x: x not in country_names)]"
   ]
  },
  {
   "cell_type": "code",
   "execution_count": 201,
   "metadata": {},
   "outputs": [
    {
     "data": {
      "text/plain": [
       "South Korea    309\n",
       "Taiwan         224\n",
       "Vietnam        108\n",
       "Name: Country, dtype: int64"
      ]
     },
     "execution_count": 201,
     "metadata": {},
     "output_type": "execute_result"
    }
   ],
   "source": [
    "rr_df_unrecognized_country['Country'].value_counts()"
   ]
  },
  {
   "cell_type": "markdown",
   "metadata": {},
   "source": [
    "## Integrating consumption data\n",
    "\n",
    "Now that we have validated the values in our dataset, we will try to integrate the consumption data from the World Instant Noodle association."
   ]
  },
  {
   "cell_type": "code",
   "execution_count": 202,
   "metadata": {},
   "outputs": [],
   "source": [
    "rcbc_df = pd.read_csv(\"../raw_data/ramen_consumption_by_country.tsv\", sep='\\t')"
   ]
  },
  {
   "cell_type": "markdown",
   "metadata": {},
   "source": [
    "Before merging let's figure out which countries may be missing / missnamed from our WINA dataset."
   ]
  },
  {
   "cell_type": "code",
   "execution_count": 203,
   "metadata": {},
   "outputs": [
    {
     "name": "stdout",
     "output_type": "stream",
     "text": [
      "United Arab Emirates\n",
      "United Kingdom\n",
      "Ghana\n",
      "Vietnam\n",
      "United States\n",
      "South Korea\n",
      "Estonia\n",
      "Hong Kong\n",
      "Fiji\n",
      "China\n"
     ]
    }
   ],
   "source": [
    "# Create list of countries from original dataset\n",
    "rr_countries = set(rr_df['Country'])\n",
    "\n",
    "# Create list of countries from WINA dataset\n",
    "rcbc_countries = set(rcbc_df['Country / Region'])\n",
    "\n",
    "# Print missing in WINA\n",
    "for c in rr_countries:\n",
    "    if c not in rcbc_countries:\n",
    "        print(c)"
   ]
  },
  {
   "cell_type": "markdown",
   "metadata": {},
   "source": [
    "Looking at the WINA dataset we see that China/Hong Kong are grouped, the United Kingdom is written as UK, the United States as USA, Vietname as Viet Nam and South Korea as Republic of Korea leaving:\n",
    "\n",
    "* United Arab Emirates\n",
    "* Fiji\n",
    "* Estonia\n",
    "* Ghana\n",
    "\n",
    "not represented in our list. We will first group China and Hong Kong together in our ramen ratings dataset and will then fix the names in the WINA dataset to match the ramen ratings dataset and verify how many rows would be lost if we remove the above list or if we should use the \"Others\" row of the WINA dataset to keep these 4 countries."
   ]
  },
  {
   "cell_type": "code",
   "execution_count": 204,
   "metadata": {},
   "outputs": [
    {
     "data": {
      "text/plain": [
       "1       China/Hong Kong\n",
       "2             Indonesia\n",
       "3                 India\n",
       "4                 Japan\n",
       "5              Viet Nam\n",
       "6                   USA\n",
       "7           Philippines\n",
       "8     Republic of Korea\n",
       "9              Thailand\n",
       "10               Brazil\n",
       "11               Russia\n",
       "12              Nigeria\n",
       "13                Nepal\n",
       "14             Malaysia\n",
       "15               Mexico\n",
       "16               Taiwan\n",
       "17              Myanmar\n",
       "18         Saudi Arabia\n",
       "19            Australia\n",
       "20                   UK\n",
       "21             Cambodia\n",
       "22              Ukraine\n",
       "23           Bangladesh\n",
       "24               Poland\n",
       "25         South Africa\n",
       "26            Guatemala\n",
       "27                Egypt\n",
       "28              Germany\n",
       "29               Canada\n",
       "30             Pakistan\n",
       "31           Kazakhstan\n",
       "32            Sri Lanka\n",
       "33                 Peru\n",
       "34            Singapore\n",
       "35           Uzbekistan\n",
       "36       Czech Republic\n",
       "37          New Zealand\n",
       "38             Ethiopia\n",
       "39                Spain\n",
       "40               France\n",
       "41               Turkey\n",
       "42                Kenya\n",
       "43                 Iran\n",
       "44               Sweden\n",
       "45              Hungary\n",
       "46                Chile\n",
       "47          Netherlands\n",
       "48                Italy\n",
       "49             Colombia\n",
       "50              Belgium\n",
       "51              Denmark\n",
       "52           Costa Rica\n",
       "53              Finland\n",
       "54            Argentina\n",
       "55          Switzerland\n",
       "-                Others\n",
       "Name: Country / Region, dtype: object"
      ]
     },
     "execution_count": 204,
     "metadata": {},
     "output_type": "execute_result"
    }
   ],
   "source": [
    "rcbc_df['Country / Region'] "
   ]
  },
  {
   "cell_type": "code",
   "execution_count": 205,
   "metadata": {},
   "outputs": [],
   "source": [
    "wina_country_mapping = {\n",
    "    \"UK\": \"United Kingdom\",\n",
    "    \"Viet Nam\": \"Vietnam\",\n",
    "    \"USA\": \"United States\",\n",
    "    \"Republic of Korea\": \"South Korea\"\n",
    "}\n",
    "\n",
    "# Renaming of WINA countries\n",
    "rcbc_df[\"Country_revised\"] = rcbc_df[\"Country / Region\"].apply(lambda c: c if c not in wina_country_mapping else wina_country_mapping[c])\n",
    "\n",
    "# Merging of China/Hong Kong\n",
    "rr_df[\"Country\"] = rr_df[\"Country\"].apply(lambda c: c if not ((\"Hong Kong\" in c) or (\"China\" in c)) else \"China/Hong Kong\")"
   ]
  },
  {
   "cell_type": "markdown",
   "metadata": {},
   "source": [
    "We now merge the datasets."
   ]
  },
  {
   "cell_type": "code",
   "execution_count": 206,
   "metadata": {},
   "outputs": [],
   "source": [
    "merged_df = rr_df.merge(rcbc_df, left_on='Country', right_on='Country_revised', how='left')"
   ]
  },
  {
   "cell_type": "markdown",
   "metadata": {},
   "source": [
    "Let's take a look at the rows without a match"
   ]
  },
  {
   "cell_type": "code",
   "execution_count": 207,
   "metadata": {},
   "outputs": [
    {
     "data": {
      "text/html": [
       "<div>\n",
       "<style scoped>\n",
       "    .dataframe tbody tr th:only-of-type {\n",
       "        vertical-align: middle;\n",
       "    }\n",
       "\n",
       "    .dataframe tbody tr th {\n",
       "        vertical-align: top;\n",
       "    }\n",
       "\n",
       "    .dataframe thead th {\n",
       "        text-align: right;\n",
       "    }\n",
       "</style>\n",
       "<table border=\"1\" class=\"dataframe\">\n",
       "  <thead>\n",
       "    <tr style=\"text-align: right;\">\n",
       "      <th></th>\n",
       "      <th>Brand</th>\n",
       "      <th>Variety</th>\n",
       "      <th>Style</th>\n",
       "      <th>Country</th>\n",
       "      <th>Stars</th>\n",
       "      <th>Country / Region</th>\n",
       "      <th>2014</th>\n",
       "      <th>2015</th>\n",
       "      <th>2016</th>\n",
       "      <th>2017</th>\n",
       "      <th>2018</th>\n",
       "      <th>Country_revised</th>\n",
       "    </tr>\n",
       "  </thead>\n",
       "  <tbody>\n",
       "    <tr>\n",
       "      <th>26</th>\n",
       "      <td>Yum-Mie</td>\n",
       "      <td>Instant Noodles Beef In Light Soup Flavour</td>\n",
       "      <td>Pack</td>\n",
       "      <td>Ghana</td>\n",
       "      <td>3.5</td>\n",
       "      <td>NaN</td>\n",
       "      <td>NaN</td>\n",
       "      <td>NaN</td>\n",
       "      <td>NaN</td>\n",
       "      <td>NaN</td>\n",
       "      <td>NaN</td>\n",
       "      <td>NaN</td>\n",
       "    </tr>\n",
       "    <tr>\n",
       "      <th>44</th>\n",
       "      <td>Lele</td>\n",
       "      <td>Instant Noodles Beef</td>\n",
       "      <td>Pack</td>\n",
       "      <td>Ghana</td>\n",
       "      <td>3.5</td>\n",
       "      <td>NaN</td>\n",
       "      <td>NaN</td>\n",
       "      <td>NaN</td>\n",
       "      <td>NaN</td>\n",
       "      <td>NaN</td>\n",
       "      <td>NaN</td>\n",
       "      <td>NaN</td>\n",
       "    </tr>\n",
       "    <tr>\n",
       "      <th>184</th>\n",
       "      <td>Maggi</td>\n",
       "      <td>2 Minute Noodles Chicken Flavour</td>\n",
       "      <td>Pack</td>\n",
       "      <td>Fiji</td>\n",
       "      <td>3.25</td>\n",
       "      <td>NaN</td>\n",
       "      <td>NaN</td>\n",
       "      <td>NaN</td>\n",
       "      <td>NaN</td>\n",
       "      <td>NaN</td>\n",
       "      <td>NaN</td>\n",
       "      <td>NaN</td>\n",
       "    </tr>\n",
       "    <tr>\n",
       "      <th>194</th>\n",
       "      <td>Maggi</td>\n",
       "      <td>2 Minute Noodles Curry Flavour</td>\n",
       "      <td>Pack</td>\n",
       "      <td>Fiji</td>\n",
       "      <td>4</td>\n",
       "      <td>NaN</td>\n",
       "      <td>NaN</td>\n",
       "      <td>NaN</td>\n",
       "      <td>NaN</td>\n",
       "      <td>NaN</td>\n",
       "      <td>NaN</td>\n",
       "      <td>NaN</td>\n",
       "    </tr>\n",
       "    <tr>\n",
       "      <th>1480</th>\n",
       "      <td>Baltix</td>\n",
       "      <td>Instant Noodles With Chicken Flavour Broth</td>\n",
       "      <td>Pack</td>\n",
       "      <td>Estonia</td>\n",
       "      <td>3.75</td>\n",
       "      <td>NaN</td>\n",
       "      <td>NaN</td>\n",
       "      <td>NaN</td>\n",
       "      <td>NaN</td>\n",
       "      <td>NaN</td>\n",
       "      <td>NaN</td>\n",
       "      <td>NaN</td>\n",
       "    </tr>\n",
       "    <tr>\n",
       "      <th>1481</th>\n",
       "      <td>Baltix</td>\n",
       "      <td>Instant Noodles With Beef Flavour Broth</td>\n",
       "      <td>Pack</td>\n",
       "      <td>Estonia</td>\n",
       "      <td>3.25</td>\n",
       "      <td>NaN</td>\n",
       "      <td>NaN</td>\n",
       "      <td>NaN</td>\n",
       "      <td>NaN</td>\n",
       "      <td>NaN</td>\n",
       "      <td>NaN</td>\n",
       "      <td>NaN</td>\n",
       "    </tr>\n",
       "    <tr>\n",
       "      <th>1681</th>\n",
       "      <td>FMF</td>\n",
       "      <td>Chow Tomato</td>\n",
       "      <td>Pack</td>\n",
       "      <td>Fiji</td>\n",
       "      <td>4.25</td>\n",
       "      <td>NaN</td>\n",
       "      <td>NaN</td>\n",
       "      <td>NaN</td>\n",
       "      <td>NaN</td>\n",
       "      <td>NaN</td>\n",
       "      <td>NaN</td>\n",
       "      <td>NaN</td>\n",
       "    </tr>\n",
       "    <tr>\n",
       "      <th>1683</th>\n",
       "      <td>FMF</td>\n",
       "      <td>Chow Masala</td>\n",
       "      <td>Pack</td>\n",
       "      <td>Fiji</td>\n",
       "      <td>4</td>\n",
       "      <td>NaN</td>\n",
       "      <td>NaN</td>\n",
       "      <td>NaN</td>\n",
       "      <td>NaN</td>\n",
       "      <td>NaN</td>\n",
       "      <td>NaN</td>\n",
       "      <td>NaN</td>\n",
       "    </tr>\n",
       "    <tr>\n",
       "      <th>1783</th>\n",
       "      <td>Golden Mie</td>\n",
       "      <td>Vegetable</td>\n",
       "      <td>Pack</td>\n",
       "      <td>United Arab Emirates</td>\n",
       "      <td>3.75</td>\n",
       "      <td>NaN</td>\n",
       "      <td>NaN</td>\n",
       "      <td>NaN</td>\n",
       "      <td>NaN</td>\n",
       "      <td>NaN</td>\n",
       "      <td>NaN</td>\n",
       "      <td>NaN</td>\n",
       "    </tr>\n",
       "    <tr>\n",
       "      <th>1838</th>\n",
       "      <td>Golden Mie</td>\n",
       "      <td>chicken</td>\n",
       "      <td>Pack</td>\n",
       "      <td>United Arab Emirates</td>\n",
       "      <td>3.25</td>\n",
       "      <td>NaN</td>\n",
       "      <td>NaN</td>\n",
       "      <td>NaN</td>\n",
       "      <td>NaN</td>\n",
       "      <td>NaN</td>\n",
       "      <td>NaN</td>\n",
       "      <td>NaN</td>\n",
       "    </tr>\n",
       "    <tr>\n",
       "      <th>1860</th>\n",
       "      <td>Golden Mie</td>\n",
       "      <td>Chicken Curry</td>\n",
       "      <td>Pack</td>\n",
       "      <td>United Arab Emirates</td>\n",
       "      <td>3.75</td>\n",
       "      <td>NaN</td>\n",
       "      <td>NaN</td>\n",
       "      <td>NaN</td>\n",
       "      <td>NaN</td>\n",
       "      <td>NaN</td>\n",
       "      <td>NaN</td>\n",
       "      <td>NaN</td>\n",
       "    </tr>\n",
       "  </tbody>\n",
       "</table>\n",
       "</div>"
      ],
      "text/plain": [
       "           Brand                                     Variety Style  \\\n",
       "26       Yum-Mie  Instant Noodles Beef In Light Soup Flavour  Pack   \n",
       "44          Lele                        Instant Noodles Beef  Pack   \n",
       "184        Maggi            2 Minute Noodles Chicken Flavour  Pack   \n",
       "194        Maggi              2 Minute Noodles Curry Flavour  Pack   \n",
       "1480      Baltix  Instant Noodles With Chicken Flavour Broth  Pack   \n",
       "1481      Baltix     Instant Noodles With Beef Flavour Broth  Pack   \n",
       "1681         FMF                                Chow Tomato   Pack   \n",
       "1683         FMF                                 Chow Masala  Pack   \n",
       "1783  Golden Mie                                   Vegetable  Pack   \n",
       "1838  Golden Mie                                     chicken  Pack   \n",
       "1860  Golden Mie                               Chicken Curry  Pack   \n",
       "\n",
       "                   Country Stars Country / Region 2014 2015 2016 2017 2018  \\\n",
       "26                   Ghana   3.5              NaN  NaN  NaN  NaN  NaN  NaN   \n",
       "44                   Ghana   3.5              NaN  NaN  NaN  NaN  NaN  NaN   \n",
       "184                   Fiji  3.25              NaN  NaN  NaN  NaN  NaN  NaN   \n",
       "194                   Fiji     4              NaN  NaN  NaN  NaN  NaN  NaN   \n",
       "1480               Estonia  3.75              NaN  NaN  NaN  NaN  NaN  NaN   \n",
       "1481               Estonia  3.25              NaN  NaN  NaN  NaN  NaN  NaN   \n",
       "1681                  Fiji  4.25              NaN  NaN  NaN  NaN  NaN  NaN   \n",
       "1683                  Fiji     4              NaN  NaN  NaN  NaN  NaN  NaN   \n",
       "1783  United Arab Emirates  3.75              NaN  NaN  NaN  NaN  NaN  NaN   \n",
       "1838  United Arab Emirates  3.25              NaN  NaN  NaN  NaN  NaN  NaN   \n",
       "1860  United Arab Emirates  3.75              NaN  NaN  NaN  NaN  NaN  NaN   \n",
       "\n",
       "     Country_revised  \n",
       "26               NaN  \n",
       "44               NaN  \n",
       "184              NaN  \n",
       "194              NaN  \n",
       "1480             NaN  \n",
       "1481             NaN  \n",
       "1681             NaN  \n",
       "1683             NaN  \n",
       "1783             NaN  \n",
       "1838             NaN  \n",
       "1860             NaN  "
      ]
     },
     "execution_count": 207,
     "metadata": {},
     "output_type": "execute_result"
    }
   ],
   "source": [
    "merged_df[pd.isnull(merged_df['Country / Region'])]"
   ]
  },
  {
   "cell_type": "markdown",
   "metadata": {},
   "source": [
    "As I am not confident about an imputation strategy using the \"Others\" column of the WINA dataset. I will simply drop these columns."
   ]
  },
  {
   "cell_type": "code",
   "execution_count": 208,
   "metadata": {},
   "outputs": [],
   "source": [
    "merged_df = merged_df[~pd.isnull(merged_df['Country / Region'])]"
   ]
  },
  {
   "cell_type": "code",
   "execution_count": 209,
   "metadata": {},
   "outputs": [
    {
     "data": {
      "text/html": [
       "<div>\n",
       "<style scoped>\n",
       "    .dataframe tbody tr th:only-of-type {\n",
       "        vertical-align: middle;\n",
       "    }\n",
       "\n",
       "    .dataframe tbody tr th {\n",
       "        vertical-align: top;\n",
       "    }\n",
       "\n",
       "    .dataframe thead th {\n",
       "        text-align: right;\n",
       "    }\n",
       "</style>\n",
       "<table border=\"1\" class=\"dataframe\">\n",
       "  <thead>\n",
       "    <tr style=\"text-align: right;\">\n",
       "      <th></th>\n",
       "      <th>Brand</th>\n",
       "      <th>Variety</th>\n",
       "      <th>Style</th>\n",
       "      <th>Country</th>\n",
       "      <th>Stars</th>\n",
       "      <th>Country / Region</th>\n",
       "      <th>2014</th>\n",
       "      <th>2015</th>\n",
       "      <th>2016</th>\n",
       "      <th>2017</th>\n",
       "      <th>2018</th>\n",
       "      <th>Country_revised</th>\n",
       "    </tr>\n",
       "  </thead>\n",
       "  <tbody>\n",
       "    <tr>\n",
       "      <th>0</th>\n",
       "      <td>New Touch</td>\n",
       "      <td>T's Restaurant Tantanmen</td>\n",
       "      <td>Cup</td>\n",
       "      <td>Japan</td>\n",
       "      <td>3.75</td>\n",
       "      <td>Japan</td>\n",
       "      <td>5,500</td>\n",
       "      <td>5,540</td>\n",
       "      <td>5,660</td>\n",
       "      <td>5,660</td>\n",
       "      <td>5,780</td>\n",
       "      <td>Japan</td>\n",
       "    </tr>\n",
       "    <tr>\n",
       "      <th>1</th>\n",
       "      <td>Just Way</td>\n",
       "      <td>Noodles Spicy Hot Sesame Spicy Hot Sesame Guan...</td>\n",
       "      <td>Pack</td>\n",
       "      <td>Taiwan</td>\n",
       "      <td>1</td>\n",
       "      <td>Taiwan</td>\n",
       "      <td>710</td>\n",
       "      <td>680</td>\n",
       "      <td>770</td>\n",
       "      <td>820</td>\n",
       "      <td>830</td>\n",
       "      <td>Taiwan</td>\n",
       "    </tr>\n",
       "    <tr>\n",
       "      <th>2</th>\n",
       "      <td>Nissin</td>\n",
       "      <td>Cup Noodles Chicken Vegetable</td>\n",
       "      <td>Cup</td>\n",
       "      <td>United States</td>\n",
       "      <td>2.25</td>\n",
       "      <td>USA</td>\n",
       "      <td>4,280</td>\n",
       "      <td>4,080</td>\n",
       "      <td>4,100</td>\n",
       "      <td>4,130</td>\n",
       "      <td>4,400</td>\n",
       "      <td>United States</td>\n",
       "    </tr>\n",
       "    <tr>\n",
       "      <th>3</th>\n",
       "      <td>Wei Lih</td>\n",
       "      <td>GGE Ramen Snack Tomato Flavor</td>\n",
       "      <td>Pack</td>\n",
       "      <td>Taiwan</td>\n",
       "      <td>2.75</td>\n",
       "      <td>Taiwan</td>\n",
       "      <td>710</td>\n",
       "      <td>680</td>\n",
       "      <td>770</td>\n",
       "      <td>820</td>\n",
       "      <td>830</td>\n",
       "      <td>Taiwan</td>\n",
       "    </tr>\n",
       "    <tr>\n",
       "      <th>4</th>\n",
       "      <td>Ching's Secret</td>\n",
       "      <td>Singapore Curry</td>\n",
       "      <td>Pack</td>\n",
       "      <td>India</td>\n",
       "      <td>3.75</td>\n",
       "      <td>India</td>\n",
       "      <td>5,340</td>\n",
       "      <td>3,260</td>\n",
       "      <td>4,270</td>\n",
       "      <td>5,420</td>\n",
       "      <td>6,060</td>\n",
       "      <td>India</td>\n",
       "    </tr>\n",
       "  </tbody>\n",
       "</table>\n",
       "</div>"
      ],
      "text/plain": [
       "            Brand                                            Variety Style  \\\n",
       "0       New Touch                          T's Restaurant Tantanmen    Cup   \n",
       "1        Just Way  Noodles Spicy Hot Sesame Spicy Hot Sesame Guan...  Pack   \n",
       "2          Nissin                      Cup Noodles Chicken Vegetable   Cup   \n",
       "3         Wei Lih                      GGE Ramen Snack Tomato Flavor  Pack   \n",
       "4  Ching's Secret                                    Singapore Curry  Pack   \n",
       "\n",
       "         Country Stars Country / Region   2014   2015   2016   2017   2018  \\\n",
       "0          Japan  3.75            Japan  5,500  5,540  5,660  5,660  5,780   \n",
       "1         Taiwan     1           Taiwan    710    680    770    820    830   \n",
       "2  United States  2.25              USA  4,280  4,080  4,100  4,130  4,400   \n",
       "3         Taiwan  2.75           Taiwan    710    680    770    820    830   \n",
       "4          India  3.75            India  5,340  3,260  4,270  5,420  6,060   \n",
       "\n",
       "  Country_revised  \n",
       "0           Japan  \n",
       "1          Taiwan  \n",
       "2   United States  \n",
       "3          Taiwan  \n",
       "4           India  "
      ]
     },
     "execution_count": 209,
     "metadata": {},
     "output_type": "execute_result"
    }
   ],
   "source": [
    "merged_df.head()"
   ]
  },
  {
   "cell_type": "code",
   "execution_count": 210,
   "metadata": {
    "scrolled": true
   },
   "outputs": [],
   "source": [
    "merged_df = merged_df.drop(columns=['Country_revised', 'Country / Region'])"
   ]
  },
  {
   "cell_type": "code",
   "execution_count": 211,
   "metadata": {},
   "outputs": [
    {
     "data": {
      "text/html": [
       "<div>\n",
       "<style scoped>\n",
       "    .dataframe tbody tr th:only-of-type {\n",
       "        vertical-align: middle;\n",
       "    }\n",
       "\n",
       "    .dataframe tbody tr th {\n",
       "        vertical-align: top;\n",
       "    }\n",
       "\n",
       "    .dataframe thead th {\n",
       "        text-align: right;\n",
       "    }\n",
       "</style>\n",
       "<table border=\"1\" class=\"dataframe\">\n",
       "  <thead>\n",
       "    <tr style=\"text-align: right;\">\n",
       "      <th></th>\n",
       "      <th>Brand</th>\n",
       "      <th>Variety</th>\n",
       "      <th>Style</th>\n",
       "      <th>Country</th>\n",
       "      <th>Stars</th>\n",
       "      <th>2014</th>\n",
       "      <th>2015</th>\n",
       "      <th>2016</th>\n",
       "      <th>2017</th>\n",
       "      <th>2018</th>\n",
       "    </tr>\n",
       "  </thead>\n",
       "  <tbody>\n",
       "    <tr>\n",
       "      <th>0</th>\n",
       "      <td>New Touch</td>\n",
       "      <td>T's Restaurant Tantanmen</td>\n",
       "      <td>Cup</td>\n",
       "      <td>Japan</td>\n",
       "      <td>3.75</td>\n",
       "      <td>5,500</td>\n",
       "      <td>5,540</td>\n",
       "      <td>5,660</td>\n",
       "      <td>5,660</td>\n",
       "      <td>5,780</td>\n",
       "    </tr>\n",
       "    <tr>\n",
       "      <th>1</th>\n",
       "      <td>Just Way</td>\n",
       "      <td>Noodles Spicy Hot Sesame Spicy Hot Sesame Guan...</td>\n",
       "      <td>Pack</td>\n",
       "      <td>Taiwan</td>\n",
       "      <td>1</td>\n",
       "      <td>710</td>\n",
       "      <td>680</td>\n",
       "      <td>770</td>\n",
       "      <td>820</td>\n",
       "      <td>830</td>\n",
       "    </tr>\n",
       "    <tr>\n",
       "      <th>2</th>\n",
       "      <td>Nissin</td>\n",
       "      <td>Cup Noodles Chicken Vegetable</td>\n",
       "      <td>Cup</td>\n",
       "      <td>United States</td>\n",
       "      <td>2.25</td>\n",
       "      <td>4,280</td>\n",
       "      <td>4,080</td>\n",
       "      <td>4,100</td>\n",
       "      <td>4,130</td>\n",
       "      <td>4,400</td>\n",
       "    </tr>\n",
       "    <tr>\n",
       "      <th>3</th>\n",
       "      <td>Wei Lih</td>\n",
       "      <td>GGE Ramen Snack Tomato Flavor</td>\n",
       "      <td>Pack</td>\n",
       "      <td>Taiwan</td>\n",
       "      <td>2.75</td>\n",
       "      <td>710</td>\n",
       "      <td>680</td>\n",
       "      <td>770</td>\n",
       "      <td>820</td>\n",
       "      <td>830</td>\n",
       "    </tr>\n",
       "    <tr>\n",
       "      <th>4</th>\n",
       "      <td>Ching's Secret</td>\n",
       "      <td>Singapore Curry</td>\n",
       "      <td>Pack</td>\n",
       "      <td>India</td>\n",
       "      <td>3.75</td>\n",
       "      <td>5,340</td>\n",
       "      <td>3,260</td>\n",
       "      <td>4,270</td>\n",
       "      <td>5,420</td>\n",
       "      <td>6,060</td>\n",
       "    </tr>\n",
       "  </tbody>\n",
       "</table>\n",
       "</div>"
      ],
      "text/plain": [
       "            Brand                                            Variety Style  \\\n",
       "0       New Touch                          T's Restaurant Tantanmen    Cup   \n",
       "1        Just Way  Noodles Spicy Hot Sesame Spicy Hot Sesame Guan...  Pack   \n",
       "2          Nissin                      Cup Noodles Chicken Vegetable   Cup   \n",
       "3         Wei Lih                      GGE Ramen Snack Tomato Flavor  Pack   \n",
       "4  Ching's Secret                                    Singapore Curry  Pack   \n",
       "\n",
       "         Country Stars   2014   2015   2016   2017   2018  \n",
       "0          Japan  3.75  5,500  5,540  5,660  5,660  5,780  \n",
       "1         Taiwan     1    710    680    770    820    830  \n",
       "2  United States  2.25  4,280  4,080  4,100  4,130  4,400  \n",
       "3         Taiwan  2.75    710    680    770    820    830  \n",
       "4          India  3.75  5,340  3,260  4,270  5,420  6,060  "
      ]
     },
     "execution_count": 211,
     "metadata": {},
     "output_type": "execute_result"
    }
   ],
   "source": [
    "merged_df.head()"
   ]
  },
  {
   "cell_type": "markdown",
   "metadata": {},
   "source": [
    "We can now remove the duplicated Country_revised column and write the result to a clean data frame csv file."
   ]
  },
  {
   "cell_type": "code",
   "execution_count": 212,
   "metadata": {},
   "outputs": [],
   "source": [
    "merged_df.to_csv(\"../clean_data/clean_ramen_ratings.csv\", encoding='utf-8', index=False)"
   ]
  }
 ],
 "metadata": {
  "kernelspec": {
   "display_name": "Python 3",
   "language": "python",
   "name": "python3"
  },
  "language_info": {
   "codemirror_mode": {
    "name": "ipython",
    "version": 3
   },
   "file_extension": ".py",
   "mimetype": "text/x-python",
   "name": "python",
   "nbconvert_exporter": "python",
   "pygments_lexer": "ipython3",
   "version": "3.7.6"
  }
 },
 "nbformat": 4,
 "nbformat_minor": 4
}
